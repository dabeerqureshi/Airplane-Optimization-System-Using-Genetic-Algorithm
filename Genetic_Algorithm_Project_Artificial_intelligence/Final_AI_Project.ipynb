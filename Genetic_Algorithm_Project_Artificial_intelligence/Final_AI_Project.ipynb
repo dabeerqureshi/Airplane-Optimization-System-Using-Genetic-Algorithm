{
 "cells": [
  {
   "cell_type": "markdown",
   "metadata": {
    "id": "5QwzK9IFPI9G"
   },
   "source": [
    "# Libraries"
   ]
  },
  {
   "cell_type": "code",
   "execution_count": 20,
   "metadata": {
    "id": "lnQ6ULOPv2DG"
   },
   "outputs": [],
   "source": [
    "import pandas as pd\n",
    "import random\n",
    "import math\n",
    "import numpy as np"
   ]
  },
  {
   "cell_type": "markdown",
   "metadata": {
    "id": "Alwfj7HuPN4R"
   },
   "source": [
    "# Gene & Chromosome Class"
   ]
  },
  {
   "cell_type": "code",
   "execution_count": 21,
   "metadata": {
    "id": "DUkgRUEIk3MG"
   },
   "outputs": [],
   "source": [
    "class Gene:\n",
    "    def __init__(self, airport, aircraft):\n",
    "        self.airport = airport\n",
    "        self.aircraft = aircraft\n",
    "\n",
    "class Chromosome:\n",
    "    def __init__(self, genes):\n",
    "        self.genes = genes\n",
    "        self.fitness = -1\n",
    "\n",
    "    def compute_fitness(self, fitness_function, weather_data, aircraft_data, airport_data, travel_date):\n",
    "        self.fitness = fitness_function.calculate(self, weather_data, aircraft_data, airport_data, travel_date)\n",
    "\n",
    "    def __str__(self):\n",
    "        route_description = ' -> '.join([f\"{gene.airport}({gene.aircraft})\" for gene in self.genes])\n",
    "        return f\"Route: {route_description}\\n\""
   ]
  },
  {
   "cell_type": "markdown",
   "metadata": {
    "id": "ZswjVURUPRjZ"
   },
   "source": [
    "# Population Class"
   ]
  },
  {
   "cell_type": "code",
   "execution_count": 22,
   "metadata": {
    "id": "GqRX-1xFl5cw"
   },
   "outputs": [],
   "source": [
    "class Population:\n",
    "    def __init__(self, size, generate_chromosome):\n",
    "        self.size = size\n",
    "        self.generate_chromosome = generate_chromosome\n",
    "        self.chromosomes = [self.generate_chromosome() for _ in range(size)]\n",
    "\n",
    "    def __str__(self):\n",
    "        population_str = \"\"\n",
    "        for i, chromosome in enumerate(self.chromosomes):\n",
    "            population_str += f\"Chromosome {i + 1}:\\n\"\n",
    "            population_str += str(chromosome)  # Use the __str__ method of Chromosome\n",
    "            population_str += \"\\n\"\n",
    "        return population_str\n",
    "\n",
    "    def tournament_selection(self, tournament_size=3):\n",
    "      selected_parents = []\n",
    "      for _ in range(self.size):\n",
    "          tournament = random.sample(self.chromosomes, tournament_size)\n",
    "          winner = max(tournament, key=lambda chromo: chromo.fitness)\n",
    "          selected_parents.append(winner)\n",
    "      return selected_parents\n",
    "\n",
    "\n",
    "    def ordered_crossover(self, parent1, parent2):\n",
    "        child1_genes = []\n",
    "        child2_genes = []\n",
    "\n",
    "        start, end = sorted(random.sample(range(len(parent1.genes)), 2))\n",
    "\n",
    "        middle1 = parent1.genes[start:end]\n",
    "        middle2 = parent2.genes[start:end]\n",
    "\n",
    "        remainder1 = [gene for gene in parent2.genes if gene not in middle1]\n",
    "        remainder2 = [gene for gene in parent1.genes if gene not in middle2]\n",
    "\n",
    "        child1_genes.extend(remainder1[:start])\n",
    "        child1_genes.extend(middle1)\n",
    "        child1_genes.extend(remainder1[start:])\n",
    "\n",
    "        child2_genes.extend(remainder2[:start])\n",
    "        child2_genes.extend(middle2)\n",
    "        child2_genes.extend(remainder2[start:])\n",
    "\n",
    "        return Chromosome(child1_genes), Chromosome(child2_genes)\n",
    "\n",
    "    def mutate_swap(self, chromosome, mutation_rate=0.01):\n",
    "        for _ in range(len(chromosome.genes)):\n",
    "            if random.random() < mutation_rate:\n",
    "                # Select two different indices to swap\n",
    "                idx1, idx2 = random.sample(range(len(chromosome.genes)), 2)\n",
    "                # Swap the genes at these indices\n",
    "                chromosome.genes[idx1], chromosome.genes[idx2] = chromosome.genes[idx2], chromosome.genes[idx1]\n",
    "\n",
    "    def evolve(self, fitness_function, weather_data, aircraft_data, airport_data, travel_date):\n",
    "        new_population = []\n",
    "        while len(new_population) < self.size:\n",
    "            parents = self.tournament_selection(tournament_size=3)\n",
    "            parent1, parent2 = random.sample(parents, 2)\n",
    "            child1, child2 = self.ordered_crossover(parent1, parent2)\n",
    "            self.mutate_swap(child1, mutation_rate = 0.01)\n",
    "            self.mutate_swap(child2, mutation_rate = 0.01)\n",
    "            child1.compute_fitness(fitness_function, weather_data, aircraft_data, airport_data, travel_date)\n",
    "            child2.compute_fitness(fitness_function, weather_data, aircraft_data, airport_data, travel_date)\n",
    "            new_population.extend([child1, child2])\n",
    "        self.chromosomes = sorted(new_population, key=lambda chromo: chromo.fitness, reverse=True)[:self.size]"
   ]
  },
  {
   "cell_type": "markdown",
   "metadata": {
    "id": "FFQtNcNKPT6a"
   },
   "source": [
    "# Fitness Function Class"
   ]
  },
  {
   "cell_type": "code",
   "execution_count": 23,
   "metadata": {
    "id": "tl-scag2kq1Y"
   },
   "outputs": [],
   "source": [
    "class FitnessFunction:\n",
    "    def __init__(self, alpha, beta, gamma):\n",
    "        self.alpha = alpha  # weight for distance cost\n",
    "        self.beta = beta    # weight for fuel efficiency cost\n",
    "        self.gamma = gamma  # weight for weather impact cost\n",
    "\n",
    "    def calculate(self, chromosome, weather_data, aircraft_data, airport_data, travel_date):\n",
    "\n",
    "        distance_cost = self.calculate_distance_cost(chromosome, airport_data)\n",
    "        fuel_efficiency_cost = self.calculate_fuel_efficiency_cost(chromosome, aircraft_data, airport_data)\n",
    "        weather_impact_cost = self.calculate_weather_impact_cost(chromosome, weather_data, airport_data, travel_date)\n",
    "\n",
    "        combined_fitness = (self.alpha * distance_cost + self.beta * fuel_efficiency_cost + self.gamma * weather_impact_cost)\n",
    "\n",
    "        return combined_fitness\n",
    "\n",
    "    \n",
    "    def calculate_distance_cost(self, chromosome, airport_data):\n",
    "          total_distance = 0\n",
    "          unique_cities = airport_data['City'].unique()\n",
    "\n",
    "          city_to_ICAO_mapping = {city[:4].upper(): city for city in unique_cities}\n",
    "\n",
    "          for i in range(len(chromosome.genes) - 1):\n",
    "              airport1 = chromosome.genes[i].airport\n",
    "              airport2 = chromosome.genes[i+1].airport\n",
    "\n",
    "              city1 = city_to_ICAO_mapping.get(airport1[:4].upper(), None)\n",
    "              city2 = city_to_ICAO_mapping.get(airport2[:4].upper(), None)\n",
    "\n",
    "              # Initialize latitudes and longitudes with default values (e.g., None or 0)\n",
    "              lat1, lon1, lat2, lon2 = None, None, None, None\n",
    "\n",
    "              row1 = airport_data[(airport_data['ICAO Code'] == airport1) & (airport_data['City'] == city2)]\n",
    "              if not row1.empty:\n",
    "                  lat1, lon1 = row1[['Latitude', 'Longitude']].values[0]\n",
    "\n",
    "              row2 = airport_data[(airport_data['ICAO Code'] == airport2) & (airport_data['City'] == city1)]\n",
    "              if not row2.empty:\n",
    "                  lat2, lon2 = row2[['Latitude', 'Longitude']].values[0]\n",
    "\n",
    "              # Check if all required data is available before calling haversine_distance\n",
    "              if lat1 is not None and lon1 is not None and lat2 is not None and lon2 is not None:\n",
    "                  total_distance += haversine_distance(lat1, lon1, lat2, lon2)\n",
    "              else:\n",
    "                  # Handle cases where data is missing\n",
    "                  # For example, you might want to log a warning, use a default distance, or skip this pair\n",
    "                  pass\n",
    "\n",
    "          return total_distance\n",
    "\n",
    "\n",
    "    def calculate_fuel_efficiency_cost(self, chromosome, aircraft_data, airport_data):\n",
    "        fuel_cost = 0\n",
    "        unique_cities = airport_data['City'].unique()\n",
    "\n",
    "        # Create a dictionary to map cities to their corresponding ICAO codes\n",
    "        city_to_ICAO_mapping = {city[:4].upper(): city for city in unique_cities}\n",
    "\n",
    "        for i in range(len(chromosome.genes) - 1):\n",
    "            aircraft_type = chromosome.genes[i].aircraft\n",
    "            airport1 = chromosome.genes[i].airport\n",
    "            airport2 = chromosome.genes[i+1].airport\n",
    "\n",
    "           \n",
    "            # Map airport1 and airport2 to ICAO codes if represented by city names\n",
    "            city1 = city_to_ICAO_mapping.get(airport1[:4].upper(), None)\n",
    "            city2 = city_to_ICAO_mapping.get(airport2[:4].upper(), None)\n",
    "\n",
    "            # Find the row in the airport dataset that matches airport1's ICAO code and city2\n",
    "            row1 = airport_data[(airport_data['ICAO Code'] == airport1) & (airport_data['City'] == city2)]\n",
    "            if not row1.empty:\n",
    "                lat1, lon1 = row1[['Latitude', 'Longitude']].values[0]\n",
    "\n",
    "\n",
    "            # Find the row in the airport dataset that matches airport2's ICAO code and city1\n",
    "            row2 = airport_data[(airport_data['ICAO Code'] == airport2) & (airport_data['City'] == city1)]\n",
    "            if not row2.empty:\n",
    "                lat2, lon2 = row2[['Latitude', 'Longitude']].values[0]\n",
    "\n",
    "            \n",
    "\n",
    "            # Calculate the distance using the haversine formula\n",
    "            distance = haversine_distance(lat1, lon1, lat2, lon2)\n",
    "\n",
    "            # print('Haversine Distance: ',distance)\n",
    "\n",
    "            # Get the fuel consumption per km for the aircraft type\n",
    "            fuel_consumption_per_km = aircraft_data[aircraft_data['Aircraft Type'] == aircraft_type]['Fuel Consumption at Cruise'].values[0]\n",
    "\n",
    "            # nan values avoidance\n",
    "            fuel_consumption_per_km = fuel_consumption_per_km if not np.isnan(fuel_consumption_per_km) else 0\n",
    "\n",
    "            # print('Fuel/km: ',fuel_consumption_per_km)\n",
    "\n",
    "            # Calculate the fuel cost for this segment\n",
    "            fuel_cost += fuel_consumption_per_km * distance\n",
    "\n",
    "        return fuel_cost\n",
    "\n",
    "\n",
    "    def calculate_weather_impact_cost(self, chromosome, weather_data, airport_data, travel_date):\n",
    "        weather_cost = 0\n",
    "\n",
    "        # Extract unique city names from the airport_data DataFrame\n",
    "        unique_cities = airport_data['City'].unique()\n",
    "\n",
    "        # Create a dictionary to map cities to their corresponding ICAO codes\n",
    "        city_to_ICAO_mapping = {city[:4].upper(): city for city in unique_cities}\n",
    "\n",
    "        # Assuming 'travel_date' is the date you want to search for\n",
    "        max_wind_speed = weather_data.loc[weather_data['Date'] == travel_date, 'Wind Speed'].max()\n",
    "        max_wind_direction = weather_data.loc[weather_data['Date'] == travel_date, 'Wind Direction'].max()\n",
    "\n",
    "        # Replace NaN values with 0\n",
    "        max_wind_speed = max_wind_speed if not np.isnan(max_wind_speed) else 0\n",
    "        max_wind_direction = max_wind_direction if not np.isnan(max_wind_direction) else 0\n",
    "\n",
    "        for i in range(len(chromosome.genes) - 1):\n",
    "            airport1 = chromosome.genes[i].airport\n",
    "            airport2 = chromosome.genes[i + 1].airport\n",
    "\n",
    "            # Extract the city names corresponding to the airports\n",
    "            city1 = city_to_ICAO_mapping.get(airport1[:4].upper(), None)\n",
    "            city2 = city_to_ICAO_mapping.get(airport2[:4].upper(), None)\n",
    "\n",
    "            if city1 is not None and city2 is not None:\n",
    "                # Assuming that weather_data is a DataFrame\n",
    "                matching_rows = weather_data[(weather_data['Date'] == travel_date) & (weather_data['City'].isin([city1, city2]))]\n",
    "\n",
    "                if not matching_rows.empty:\n",
    "                    # Retrieve wind speed and wind direction for the corresponding cities\n",
    "                    wind_speed1 = matching_rows[matching_rows['City'] == city1]['Wind Speed'].values[0]\n",
    "                    wind_speed2 = matching_rows[matching_rows['City'] == city2]['Wind Speed'].values[0]\n",
    "                    wind_direction1 = matching_rows[matching_rows['City'] == city1]['Wind Direction'].values[0]\n",
    "                    wind_direction2 = matching_rows[matching_rows['City'] == city2]['Wind Direction'].values[0]\n",
    "\n",
    "                    # Replace NaN values with 0\n",
    "                    wind_speed1 = wind_speed1 if not np.isnan(wind_speed1) else 0\n",
    "                    wind_speed2 = wind_speed2 if not np.isnan(wind_speed2) else 0\n",
    "                    wind_direction1 = wind_direction1 if not np.isnan(wind_direction1) else 0\n",
    "                    wind_direction2 = wind_direction2 if not np.isnan(wind_direction2) else 0\n",
    "\n",
    "                    # Calculate the impact score based on wind speed and direction\n",
    "                    speed_impact1 = wind_speed1 / max_wind_speed\n",
    "                    speed_impact2 = wind_speed2 / max_wind_speed\n",
    "                    direction_impact1 = abs(wind_direction1 - max_wind_direction) / 360.0\n",
    "                    direction_impact2 = abs(wind_direction2 - max_wind_direction) / 360.0\n",
    "\n",
    "                    # Average the impact scores for the two airports, considering both speed and direction\n",
    "                    avg_impact_score = (speed_impact1 + speed_impact2 + direction_impact1 + direction_impact2) / 4\n",
    "\n",
    "                    # Add the average impact score to the weather cost\n",
    "                    weather_cost += avg_impact_score\n",
    "\n",
    "        return weather_cost"
   ]
  },
  {
   "cell_type": "markdown",
   "metadata": {
    "id": "g-EcZ81jPZAM"
   },
   "source": [
    "# Genetic Algorithm Class"
   ]
  },
  {
   "cell_type": "code",
   "execution_count": 24,
   "metadata": {
    "id": "OL46bhpamnoW"
   },
   "outputs": [],
   "source": [
    "class GeneticAlgorithm:\n",
    "    def __init__(self, population, fitness_function, max_generations):\n",
    "        self.population = population\n",
    "        self.fitness_function = fitness_function\n",
    "        self.max_generations = max_generations\n",
    "\n",
    "    def run(self, weather_data, aircraft_data, airport_data, travel_date):\n",
    "        for generation in range(self.max_generations):\n",
    "            print(f\"Generation {generation + 1}/{self.max_generations}\")\n",
    "\n",
    "            # Evaluate the fitness of each chromosome in the population\n",
    "            for chromosome in self.population.chromosomes:\n",
    "                chromosome.compute_fitness(self.fitness_function, weather_data, aircraft_data, airport_data, travel_date)\n",
    "\n",
    "            # Evolve the population to the next generation\n",
    "            self.population.evolve(self.fitness_function, weather_data, aircraft_data, airport_data, travel_date)\n",
    "\n",
    "            # Optionally, print the best fitness in the population after each generation\n",
    "            best_fitness = max(self.population.chromosomes, key=lambda chromo: chromo.fitness).fitness\n",
    "            print(f\"Best fitness in current generation: {best_fitness}\")\n",
    "\n",
    "        # After the final generation, return the best chromosome as the optimal solution\n",
    "        best_chromosome = max(self.population.chromosomes, key=lambda chromo: chromo.fitness)\n",
    "        return best_chromosome"
   ]
  },
  {
   "cell_type": "markdown",
   "metadata": {
    "id": "Ra8YRRhGPeRI"
   },
   "source": [
    "## Generating Chromosomes"
   ]
  },
  {
   "cell_type": "code",
   "execution_count": 25,
   "metadata": {
    "id": "-f93Yw2AyQLT"
   },
   "outputs": [],
   "source": [
    "def generate_chromosome(source_airport, destination_airport, aircraft_data, airport_data):\n",
    "    genes = []\n",
    "\n",
    "    # Function to get a random aircraft type available at a given airport\n",
    "    def get_random_aircraft(airport):\n",
    "        available_aircraft = aircraft_data[aircraft_data['ICAO CODES'] == airport]['Aircraft Type']\n",
    "        return random.choice(available_aircraft.tolist()) if not available_aircraft.empty else None\n",
    "\n",
    "    # Add the source airport with a random available aircraft\n",
    "    source_aircraft = get_random_aircraft(source_airport)\n",
    "\n",
    "    if source_aircraft:\n",
    "        genes.append(Gene(source_airport, source_aircraft))\n",
    "    else:\n",
    "        # No available aircraft at source airport\n",
    "        print(\"No available aircraft at source airport.\")\n",
    "        return Chromosome([])\n",
    "\n",
    "    # Generate a list of possible stopover airports excluding source and destination\n",
    "    stopover_airports = list(set(airport_data['ICAO Code']) - {source_airport, destination_airport})\n",
    "    random.shuffle(stopover_airports)\n",
    "    stopover_airports = stopover_airports[:10]  # Limit to 10 to keep total genes to 12\n",
    "\n",
    "    # Create genes for each stopover with a randomly selected available aircraft\n",
    "    for airport in stopover_airports:\n",
    "        aircraft = get_random_aircraft(airport)\n",
    "        if aircraft:\n",
    "            genes.append(Gene(airport, aircraft))\n",
    "\n",
    "    # Add the destination airport with a random available aircraft\n",
    "    destination_aircraft = get_random_aircraft(destination_airport)\n",
    "\n",
    "    if destination_aircraft:\n",
    "        genes.append(Gene(destination_airport, destination_aircraft))\n",
    "    else:\n",
    "        # Incomplete chromosome if no aircraft available at destination\n",
    "        print(\"No available aircraft at destination airport.\")\n",
    "        return Chromosome(genes)\n",
    "\n",
    "    # Ensure 12 unique genes in the chromosome\n",
    "    if len(genes) != 12:\n",
    "        print(\"Not enough genes in the chromosome.\")\n",
    "        return Chromosome([])\n",
    "\n",
    "    return Chromosome(genes)"
   ]
  },
  {
   "cell_type": "markdown",
   "metadata": {
    "id": "Mgup238cKLEz"
   },
   "source": [
    "## Haversine Distance Function"
   ]
  },
  {
   "cell_type": "code",
   "execution_count": 26,
   "metadata": {
    "id": "3rwO7duI3ngf"
   },
   "outputs": [],
   "source": [
    "# Assuming latitude and longitude are in degrees and converting them to radians in the distance formula\n",
    "def haversine_distance(lat1, lon1, lat2, lon2):\n",
    "    R = 6371  # Earth radius in km\n",
    "    lat1, lon1, lat2, lon2 = map(math.radians, [lat1, lon1, lat2, lon2])\n",
    "    dlat = lat2 - lat1\n",
    "    dlon = lon2 - lon1\n",
    "    a = math.sin(dlat/2)**2 + math.cos(lat1) * math.cos(lat2) * math.sin(dlon/2)**2\n",
    "    c = 2 * math.atan2(math.sqrt(a), math.sqrt(1-a))\n",
    "    return R * c"
   ]
  },
  {
   "cell_type": "markdown",
   "metadata": {
    "id": "BwdITaeLO8r7"
   },
   "source": [
    "## Function Testing Section"
   ]
  },
  {
   "cell_type": "code",
   "execution_count": null,
   "metadata": {
    "id": "ZwkwY25BboZs"
   },
   "outputs": [],
   "source": []
  },
  {
   "cell_type": "code",
   "execution_count": null,
   "metadata": {
    "id": "FD63i0inaK83"
   },
   "outputs": [],
   "source": []
  },
  {
   "cell_type": "code",
   "execution_count": null,
   "metadata": {
    "id": "HWJg5Hd_LJYl"
   },
   "outputs": [],
   "source": []
  },
  {
   "cell_type": "markdown",
   "metadata": {
    "id": "pzTCs2nVO__V"
   },
   "source": [
    "#Main"
   ]
  },
  {
   "cell_type": "code",
   "execution_count": null,
   "metadata": {
    "id": "OA4pvCZtoaSS"
   },
   "outputs": [],
   "source": []
  },
  {
   "cell_type": "code",
   "execution_count": 27,
   "metadata": {
    "id": "41jUQrMYVVQ0"
   },
   "outputs": [],
   "source": [
    "def main():\n",
    "    # Load datasets into pandas DataFrames\n",
    "    weather_data = pd.read_csv('data/weatherDataset.csv')\n",
    "    aircraft_data = pd.read_csv('data/aircraftDataset.csv')\n",
    "    airport_data = pd.read_csv('data/airportDataset.csv')\n",
    "\n",
    "    # Parameters for the genetic algorithm\n",
    "    population_size = 50\n",
    "    max_generations = 10\n",
    "    alpha, beta, gamma = 0.5, 1.0, 0.75  # Example weights for fitness function\n",
    "\n",
    "    # Define source and destination airports and travel date\n",
    "    source_airport = 'ISLA'\n",
    "    destination_airport = 'SIAL'\n",
    "    travel_date = '02-02-2007'\n",
    "\n",
    "    # Initialize the fitness function\n",
    "    fitness_function = FitnessFunction(alpha, beta, gamma)\n",
    "\n",
    "    # Initialize the initial population\n",
    "    initial_population = Population(population_size,\n",
    "        lambda: generate_chromosome(source_airport, destination_airport, aircraft_data, airport_data))\n",
    "\n",
    "    # Initialize the genetic algorithm\n",
    "    ga = GeneticAlgorithm(initial_population, fitness_function, max_generations)\n",
    "\n",
    "    # Run the genetic algorithm\n",
    "    best_chromosome = ga.run(weather_data, aircraft_data, airport_data, travel_date)\n",
    "    res=[(gene.airport, gene.aircraft) for gene in best_chromosome.genes]\n",
    "    ress=best_chromosome.fitness\n",
    "    \n",
    "    # Output the best route found\n",
    "    print(f\"Best route found: {[(gene.airport, gene.aircraft) for gene in best_chromosome.genes]}\")\n",
    "    print(f\"With fitness: {best_chromosome.fitness}\")"
   ]
  },
  {
   "cell_type": "code",
   "execution_count": 28,
   "metadata": {
    "colab": {
     "base_uri": "https://localhost:8080/",
     "height": 495
    },
    "id": "wbl-4bvRvsqP",
    "outputId": "794461d5-b603-435d-ec1c-13041749e8dd",
    "scrolled": true
   },
   "outputs": [
    {
     "name": "stdout",
     "output_type": "stream",
     "text": [
      "Generation 1/10\n",
      "Best fitness in current generation: 200072636.68096673\n",
      "Generation 2/10\n"
     ]
    },
    {
     "ename": "UnboundLocalError",
     "evalue": "cannot access local variable 'lat1' where it is not associated with a value",
     "output_type": "error",
     "traceback": [
      "\u001b[1;31m---------------------------------------------------------------------------\u001b[0m",
      "\u001b[1;31mUnboundLocalError\u001b[0m                         Traceback (most recent call last)",
      "Cell \u001b[1;32mIn[28], line 2\u001b[0m\n\u001b[0;32m      1\u001b[0m \u001b[38;5;28;01mif\u001b[39;00m \u001b[38;5;18m__name__\u001b[39m \u001b[38;5;241m==\u001b[39m \u001b[38;5;124m\"\u001b[39m\u001b[38;5;124m__main__\u001b[39m\u001b[38;5;124m\"\u001b[39m:\n\u001b[1;32m----> 2\u001b[0m     main()\n",
      "Cell \u001b[1;32mIn[27], line 28\u001b[0m, in \u001b[0;36mmain\u001b[1;34m()\u001b[0m\n\u001b[0;32m     25\u001b[0m ga \u001b[38;5;241m=\u001b[39m GeneticAlgorithm(initial_population, fitness_function, max_generations)\n\u001b[0;32m     27\u001b[0m \u001b[38;5;66;03m# Run the genetic algorithm\u001b[39;00m\n\u001b[1;32m---> 28\u001b[0m best_chromosome \u001b[38;5;241m=\u001b[39m ga\u001b[38;5;241m.\u001b[39mrun(weather_data, aircraft_data, airport_data, travel_date)\n\u001b[0;32m     29\u001b[0m res\u001b[38;5;241m=\u001b[39m[(gene\u001b[38;5;241m.\u001b[39mairport, gene\u001b[38;5;241m.\u001b[39maircraft) \u001b[38;5;28;01mfor\u001b[39;00m gene \u001b[38;5;129;01min\u001b[39;00m best_chromosome\u001b[38;5;241m.\u001b[39mgenes]\n\u001b[0;32m     30\u001b[0m ress\u001b[38;5;241m=\u001b[39mbest_chromosome\u001b[38;5;241m.\u001b[39mfitness\n",
      "Cell \u001b[1;32mIn[24], line 16\u001b[0m, in \u001b[0;36mGeneticAlgorithm.run\u001b[1;34m(self, weather_data, aircraft_data, airport_data, travel_date)\u001b[0m\n\u001b[0;32m     13\u001b[0m     chromosome\u001b[38;5;241m.\u001b[39mcompute_fitness(\u001b[38;5;28mself\u001b[39m\u001b[38;5;241m.\u001b[39mfitness_function, weather_data, aircraft_data, airport_data, travel_date)\n\u001b[0;32m     15\u001b[0m \u001b[38;5;66;03m# Evolve the population to the next generation\u001b[39;00m\n\u001b[1;32m---> 16\u001b[0m \u001b[38;5;28mself\u001b[39m\u001b[38;5;241m.\u001b[39mpopulation\u001b[38;5;241m.\u001b[39mevolve(\u001b[38;5;28mself\u001b[39m\u001b[38;5;241m.\u001b[39mfitness_function, weather_data, aircraft_data, airport_data, travel_date)\n\u001b[0;32m     18\u001b[0m \u001b[38;5;66;03m# Optionally, print the best fitness in the population after each generation\u001b[39;00m\n\u001b[0;32m     19\u001b[0m best_fitness \u001b[38;5;241m=\u001b[39m \u001b[38;5;28mmax\u001b[39m(\u001b[38;5;28mself\u001b[39m\u001b[38;5;241m.\u001b[39mpopulation\u001b[38;5;241m.\u001b[39mchromosomes, key\u001b[38;5;241m=\u001b[39m\u001b[38;5;28;01mlambda\u001b[39;00m chromo: chromo\u001b[38;5;241m.\u001b[39mfitness)\u001b[38;5;241m.\u001b[39mfitness\n",
      "Cell \u001b[1;32mIn[22], line 62\u001b[0m, in \u001b[0;36mPopulation.evolve\u001b[1;34m(self, fitness_function, weather_data, aircraft_data, airport_data, travel_date)\u001b[0m\n\u001b[0;32m     60\u001b[0m \u001b[38;5;28mself\u001b[39m\u001b[38;5;241m.\u001b[39mmutate_swap(child1, mutation_rate \u001b[38;5;241m=\u001b[39m \u001b[38;5;241m0.01\u001b[39m)\n\u001b[0;32m     61\u001b[0m \u001b[38;5;28mself\u001b[39m\u001b[38;5;241m.\u001b[39mmutate_swap(child2, mutation_rate \u001b[38;5;241m=\u001b[39m \u001b[38;5;241m0.01\u001b[39m)\n\u001b[1;32m---> 62\u001b[0m child1\u001b[38;5;241m.\u001b[39mcompute_fitness(fitness_function, weather_data, aircraft_data, airport_data, travel_date)\n\u001b[0;32m     63\u001b[0m child2\u001b[38;5;241m.\u001b[39mcompute_fitness(fitness_function, weather_data, aircraft_data, airport_data, travel_date)\n\u001b[0;32m     64\u001b[0m new_population\u001b[38;5;241m.\u001b[39mextend([child1, child2])\n",
      "Cell \u001b[1;32mIn[21], line 12\u001b[0m, in \u001b[0;36mChromosome.compute_fitness\u001b[1;34m(self, fitness_function, weather_data, aircraft_data, airport_data, travel_date)\u001b[0m\n\u001b[0;32m     11\u001b[0m \u001b[38;5;28;01mdef\u001b[39;00m \u001b[38;5;21mcompute_fitness\u001b[39m(\u001b[38;5;28mself\u001b[39m, fitness_function, weather_data, aircraft_data, airport_data, travel_date):\n\u001b[1;32m---> 12\u001b[0m     \u001b[38;5;28mself\u001b[39m\u001b[38;5;241m.\u001b[39mfitness \u001b[38;5;241m=\u001b[39m fitness_function\u001b[38;5;241m.\u001b[39mcalculate(\u001b[38;5;28mself\u001b[39m, weather_data, aircraft_data, airport_data, travel_date)\n",
      "Cell \u001b[1;32mIn[23], line 10\u001b[0m, in \u001b[0;36mFitnessFunction.calculate\u001b[1;34m(self, chromosome, weather_data, aircraft_data, airport_data, travel_date)\u001b[0m\n\u001b[0;32m      7\u001b[0m \u001b[38;5;28;01mdef\u001b[39;00m \u001b[38;5;21mcalculate\u001b[39m(\u001b[38;5;28mself\u001b[39m, chromosome, weather_data, aircraft_data, airport_data, travel_date):\n\u001b[0;32m      9\u001b[0m     distance_cost \u001b[38;5;241m=\u001b[39m \u001b[38;5;28mself\u001b[39m\u001b[38;5;241m.\u001b[39mcalculate_distance_cost(chromosome, airport_data)\n\u001b[1;32m---> 10\u001b[0m     fuel_efficiency_cost \u001b[38;5;241m=\u001b[39m \u001b[38;5;28mself\u001b[39m\u001b[38;5;241m.\u001b[39mcalculate_fuel_efficiency_cost(chromosome, aircraft_data, airport_data)\n\u001b[0;32m     11\u001b[0m     weather_impact_cost \u001b[38;5;241m=\u001b[39m \u001b[38;5;28mself\u001b[39m\u001b[38;5;241m.\u001b[39mcalculate_weather_impact_cost(chromosome, weather_data, airport_data, travel_date)\n\u001b[0;32m     13\u001b[0m     combined_fitness \u001b[38;5;241m=\u001b[39m (\u001b[38;5;28mself\u001b[39m\u001b[38;5;241m.\u001b[39malpha \u001b[38;5;241m*\u001b[39m distance_cost \u001b[38;5;241m+\u001b[39m \u001b[38;5;28mself\u001b[39m\u001b[38;5;241m.\u001b[39mbeta \u001b[38;5;241m*\u001b[39m fuel_efficiency_cost \u001b[38;5;241m+\u001b[39m \u001b[38;5;28mself\u001b[39m\u001b[38;5;241m.\u001b[39mgamma \u001b[38;5;241m*\u001b[39m weather_impact_cost)\n",
      "Cell \u001b[1;32mIn[23], line 84\u001b[0m, in \u001b[0;36mFitnessFunction.calculate_fuel_efficiency_cost\u001b[1;34m(self, chromosome, aircraft_data, airport_data)\u001b[0m\n\u001b[0;32m     79\u001b[0m     lat2, lon2 \u001b[38;5;241m=\u001b[39m row2[[\u001b[38;5;124m'\u001b[39m\u001b[38;5;124mLatitude\u001b[39m\u001b[38;5;124m'\u001b[39m, \u001b[38;5;124m'\u001b[39m\u001b[38;5;124mLongitude\u001b[39m\u001b[38;5;124m'\u001b[39m]]\u001b[38;5;241m.\u001b[39mvalues[\u001b[38;5;241m0\u001b[39m]\n\u001b[0;32m     83\u001b[0m \u001b[38;5;66;03m# Calculate the distance using the haversine formula\u001b[39;00m\n\u001b[1;32m---> 84\u001b[0m distance \u001b[38;5;241m=\u001b[39m haversine_distance(lat1, lon1, lat2, lon2)\n\u001b[0;32m     86\u001b[0m \u001b[38;5;66;03m# print('Haversine Distance: ',distance)\u001b[39;00m\n\u001b[0;32m     87\u001b[0m \n\u001b[0;32m     88\u001b[0m \u001b[38;5;66;03m# Get the fuel consumption per km for the aircraft type\u001b[39;00m\n\u001b[0;32m     89\u001b[0m fuel_consumption_per_km \u001b[38;5;241m=\u001b[39m aircraft_data[aircraft_data[\u001b[38;5;124m'\u001b[39m\u001b[38;5;124mAircraft Type\u001b[39m\u001b[38;5;124m'\u001b[39m] \u001b[38;5;241m==\u001b[39m aircraft_type][\u001b[38;5;124m'\u001b[39m\u001b[38;5;124mFuel Consumption at Cruise\u001b[39m\u001b[38;5;124m'\u001b[39m]\u001b[38;5;241m.\u001b[39mvalues[\u001b[38;5;241m0\u001b[39m]\n",
      "\u001b[1;31mUnboundLocalError\u001b[0m: cannot access local variable 'lat1' where it is not associated with a value"
     ]
    }
   ],
   "source": [
    "if __name__ == \"__main__\":\n",
    "    main()"
   ]
  },
  {
   "cell_type": "markdown",
   "metadata": {
    "id": "l_45TSLKbCqQ"
   },
   "source": [
    "#LOG TABLE"
   ]
  },
  {
   "cell_type": "markdown",
   "metadata": {
    "id": "xg5di9Th8_wv"
   },
   "source": [
    "> Initial Population (Tested & Working)\n",
    "\n",
    "1.   Initial Population is being generated successfully\n",
    "2.   source and destination pair would be the first and last gene of chromosme\n",
    "\n",
    "  *   chromosome structure\n",
    "      * chromsome will contain 12 genes\n",
    "\n",
    "  *   Gene Structure\n",
    "      * each gene will contain ICAO Code and Aircraft Type\n",
    "\n",
    "\n",
    "> Fitness Function\n",
    "1. weather impact function (tested & working)\n",
    "2. fuel_efficiency cost(tested & working)\n",
    "3. distance cost(tested & working)\n",
    "\n",
    "\n"
   ]
  }
 ],
 "metadata": {
  "colab": {
   "collapsed_sections": [
    "5QwzK9IFPI9G",
    "Alwfj7HuPN4R",
    "ZswjVURUPRjZ",
    "FFQtNcNKPT6a",
    "g-EcZ81jPZAM",
    "Ra8YRRhGPeRI",
    "Mgup238cKLEz",
    "BwdITaeLO8r7",
    "pzTCs2nVO__V",
    "l_45TSLKbCqQ"
   ],
   "provenance": []
  },
  "kernelspec": {
   "display_name": "Python 3 (ipykernel)",
   "language": "python",
   "name": "python3"
  },
  "language_info": {
   "codemirror_mode": {
    "name": "ipython",
    "version": 3
   },
   "file_extension": ".py",
   "mimetype": "text/x-python",
   "name": "python",
   "nbconvert_exporter": "python",
   "pygments_lexer": "ipython3",
   "version": "3.11.5"
  }
 },
 "nbformat": 4,
 "nbformat_minor": 1
}
