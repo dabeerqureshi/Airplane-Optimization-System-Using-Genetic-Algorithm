{
 "cells": [
  {
   "cell_type": "code",
   "execution_count": 11,
   "id": "63e93348",
   "metadata": {
    "scrolled": true
   },
   "outputs": [
    {
     "name": "stdout",
     "output_type": "stream",
     "text": [
      "Requirement already satisfied: flask in c:\\users\\qures\\anaconda3\\lib\\site-packages (2.2.2)\n",
      "Requirement already satisfied: Werkzeug>=2.2.2 in c:\\users\\qures\\anaconda3\\lib\\site-packages (from flask) (2.2.3)\n",
      "Requirement already satisfied: Jinja2>=3.0 in c:\\users\\qures\\anaconda3\\lib\\site-packages (from flask) (3.1.2)\n",
      "Requirement already satisfied: itsdangerous>=2.0 in c:\\users\\qures\\anaconda3\\lib\\site-packages (from flask) (2.0.1)\n",
      "Requirement already satisfied: click>=8.0 in c:\\users\\qures\\anaconda3\\lib\\site-packages (from flask) (8.0.4)\n",
      "Requirement already satisfied: colorama in c:\\users\\qures\\anaconda3\\lib\\site-packages (from click>=8.0->flask) (0.4.6)\n",
      "Requirement already satisfied: MarkupSafe>=2.0 in c:\\users\\qures\\anaconda3\\lib\\site-packages (from Jinja2>=3.0->flask) (2.1.1)\n",
      "Note: you may need to restart the kernel to use updated packages.\n"
     ]
    }
   ],
   "source": [
    "pip install flask"
   ]
  },
  {
   "cell_type": "code",
   "execution_count": 7,
   "id": "e053d58f",
   "metadata": {
    "scrolled": false
   },
   "outputs": [
    {
     "ename": "IndentationError",
     "evalue": "expected an indented block after function definition on line 156 (pyt.py, line 157)",
     "output_type": "error",
     "traceback": [
      "Traceback \u001b[1;36m(most recent call last)\u001b[0m:\n",
      "\u001b[0m  File \u001b[0;32m~\\anaconda3\\Lib\\site-packages\\IPython\\core\\interactiveshell.py:3526\u001b[0m in \u001b[0;35mrun_code\u001b[0m\n    exec(code_obj, self.user_global_ns, self.user_ns)\u001b[0m\n",
      "\u001b[1;36m  Cell \u001b[1;32mIn[7], line 2\u001b[1;36m\n\u001b[1;33m    from pyt import GeneticAlgorithm, FitnessFunction, Population, generate_chromosome, haversine_distance\u001b[1;36m\n",
      "\u001b[1;36m  File \u001b[1;32m~\\OneDrive\\Desktop\\Genetic_Algorithm_Project_Artificial_intelligence\\pyt.py:157\u001b[1;36m\u001b[0m\n\u001b[1;33m    total_distance = 0\u001b[0m\n\u001b[1;37m    ^\u001b[0m\n\u001b[1;31mIndentationError\u001b[0m\u001b[1;31m:\u001b[0m expected an indented block after function definition on line 156\n"
     ]
    }
   ],
   "source": [
    "from flask import Flask, render_template, request\n",
    "from pyt import GeneticAlgorithm, FitnessFunction, Population, generate_chromosome, haversine_distance\n",
    "#from pyt import calculate_fuel_efficiency_cost, calculate_distance_cost\n",
    "import pandas as pd  # Make sure pandas is imported\n",
    "\n",
    "app = Flask(__name__)\n",
    "\n",
    "# Define routes\n",
    "@app.route('/')\n",
    "def index():\n",
    "    return render_template('index1.html')\n",
    "\n",
    "@app.route('/run_genetic_algorithm', methods=['POST'])\n",
    "def run_genetic_algorithm():\n",
    "    try:\n",
    "        # Retrieve form data\n",
    "        source_airport = request.form['source_airport']\n",
    "        destination_airport = request.form['destination_airport']\n",
    "        travel_date = request.form['travel_date']\n",
    "\n",
    "        # Load datasets into pandas DataFrames\n",
    "        weather_data = pd.read_csv('data/weatherDataset.csv')\n",
    "        aircraft_data = pd.read_csv('data/aircraftDataset.csv')\n",
    "        airport_data = pd.read_csv('data/airportDataset.csv')\n",
    "\n",
    "        # Parameters for the genetic algorithm\n",
    "        population_size = 50\n",
    "        max_generations = 2\n",
    "        alpha, beta, gamma = 0.5, 1.0, 0.75  # Example weights for fitness function\n",
    "\n",
    "        # Initialize the fitness function\n",
    "        fitness_function = FitnessFunction(alpha, beta, gamma)\n",
    "\n",
    "        # Initialize the initial population\n",
    "        initial_population = Population(population_size,\n",
    "            lambda: generate_chromosome(source_airport, destination_airport, aircraft_data, airport_data))\n",
    "\n",
    "        # Initialize the genetic algorithm\n",
    "        ga = GeneticAlgorithm(initial_population, fitness_function, max_generations)\n",
    "\n",
    "        # Run the genetic algorithm\n",
    "        best_chromosome = ga.run(weather_data, aircraft_data, airport_data, travel_date)\n",
    "        res = [(gene.airport, gene.aircraft) for gene in best_chromosome.genes]\n",
    "        ress = best_chromosome.fitness\n",
    "\n",
    "        return render_template('details.html', best_chromosome=res, best_fitness=ress)\n",
    "\n",
    "    except Exception as e:\n",
    "        return f\"An error occurred: {str(e)}\"\n",
    "\n",
    "if __name__ == '__main__':\n",
    "    app.run()\n"
   ]
  },
  {
   "cell_type": "code",
   "execution_count": null,
   "id": "728d01c4",
   "metadata": {},
   "outputs": [],
   "source": []
  },
  {
   "cell_type": "code",
   "execution_count": null,
   "id": "779e9940",
   "metadata": {},
   "outputs": [],
   "source": []
  },
  {
   "cell_type": "code",
   "execution_count": null,
   "id": "a12f6ead",
   "metadata": {},
   "outputs": [],
   "source": []
  },
  {
   "cell_type": "code",
   "execution_count": null,
   "id": "5e5fa231",
   "metadata": {},
   "outputs": [],
   "source": []
  }
 ],
 "metadata": {
  "kernelspec": {
   "display_name": "Python 3 (ipykernel)",
   "language": "python",
   "name": "python3"
  },
  "language_info": {
   "codemirror_mode": {
    "name": "ipython",
    "version": 3
   },
   "file_extension": ".py",
   "mimetype": "text/x-python",
   "name": "python",
   "nbconvert_exporter": "python",
   "pygments_lexer": "ipython3",
   "version": "3.11.5"
  }
 },
 "nbformat": 4,
 "nbformat_minor": 5
}
